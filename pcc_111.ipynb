{
 "cells": [
  {
   "cell_type": "code",
   "execution_count": 18,
   "id": "464c6e49",
   "metadata": {},
   "outputs": [
    {
     "name": "stdout",
     "output_type": "stream",
     "text": [
      "\n",
      "Edu's favorite place is:\n",
      "casa\n",
      "juegos\n",
      "naturaleza\n",
      "\n",
      "Ada's favorite place is:\n",
      "mamapapa\n",
      "amigos\n",
      "triciclo\n",
      "\n",
      "Shirley's favorite place is:\n",
      "hijos\n",
      "tortas\n",
      "realitys\n"
     ]
    }
   ],
   "source": [
    "# 6-9 Favorite places\n",
    "favorite_places = {'edu':['casa','juegos','naturaleza'], 'ada':['mamapapa','amigos','triciclo'],'shirley':['hijos','tortas','realitys']}\n",
    "\n",
    "for person, places in favorite_places.items():\n",
    "    print(f'\\n{person.title()}\\'s favorite place is:' )\n",
    "    for place in places:\n",
    "        print(place)"
   ]
  },
  {
   "cell_type": "code",
   "execution_count": 15,
   "id": "865d0f58",
   "metadata": {},
   "outputs": [
    {
     "name": "stdout",
     "output_type": "stream",
     "text": [
      "Shirley sus numeros favoritos son:\n",
      "55\n",
      "37\n",
      "25\n",
      "\n",
      "Shirley sus numeros favoritos son:\n",
      "3\n",
      "4\n",
      "5\n",
      "\n",
      "Shirley sus numeros favoritos son:\n",
      "1\n",
      "2\n",
      "3\n",
      "\n",
      "Shirley sus numeros favoritos son:\n",
      "27\n",
      "26\n",
      "25\n",
      "\n"
     ]
    }
   ],
   "source": [
    "# 6-10 Favorite numbers\n",
    "\n",
    "fav_num = {'edu':[55,37,25], 'ada':[3,4,5], 'sebas':[1,2,3], 'shirley':[27,26,25]}\n",
    "\n",
    "for personas, numeros in fav_num.items():\n",
    "    print(f'{persona.title()} sus numeros favoritos son:')\n",
    "    for numero in numeros:\n",
    "        print(numero)\n",
    "    print()"
   ]
  },
  {
   "cell_type": "code",
   "execution_count": 25,
   "id": "c72a216d",
   "metadata": {},
   "outputs": [
    {
     "name": "stdout",
     "output_type": "stream",
     "text": [
      "\n",
      "city:encarnacion\n",
      "py\n",
      "2millones\n",
      "vacacionar\n",
      "\n",
      "city:asuncion\n",
      "py\n",
      "3millones\n",
      "trabajar\n",
      "\n",
      "city:maaux\n",
      "py\n",
      "500\n",
      "campo\n"
     ]
    }
   ],
   "source": [
    "# 6-11 Cities\n",
    "cities = {'encarnacion':{'country':'py','population':'2millones','fact':'vacacionar'},\n",
    "          'asuncion':{'country':'py','population':'3millones','fact':'trabajar'},\n",
    "          'maaux':{'country':'py','population':500,'fact':'campo'}}\n",
    "\n",
    "for city, city_info in cities.items():\n",
    "    print(f'\\ncity:{city}')\n",
    "    country = f'{city_info['country']}'\n",
    "    population = f'{city_info['population']}'\n",
    "    fact = f'{city_info['fact']}'\n",
    "\n",
    "    print(f'{country}')\n",
    "    print(f'{population}')\n",
    "    print(f'{fact}')\n",
    "    "
   ]
  }
 ],
 "metadata": {
  "kernelspec": {
   "display_name": ".venv",
   "language": "python",
   "name": "python3"
  },
  "language_info": {
   "codemirror_mode": {
    "name": "ipython",
    "version": 3
   },
   "file_extension": ".py",
   "mimetype": "text/x-python",
   "name": "python",
   "nbconvert_exporter": "python",
   "pygments_lexer": "ipython3",
   "version": "3.13.2"
  }
 },
 "nbformat": 4,
 "nbformat_minor": 5
}
