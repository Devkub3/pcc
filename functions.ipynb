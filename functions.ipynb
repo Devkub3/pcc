{
 "cells": [
  {
   "cell_type": "markdown",
   "id": "c4d744ea",
   "metadata": {},
   "source": [
    "#### Try it yourself - Pag.: 131"
   ]
  },
  {
   "cell_type": "code",
   "execution_count": 1,
   "id": "83add4e1",
   "metadata": {},
   "outputs": [
    {
     "name": "stdout",
     "output_type": "stream",
     "text": [
      "Hello world\n"
     ]
    }
   ],
   "source": [
    "#8-1 Message\n",
    "def display_message():\n",
    "    '''Mostrar un mensaje'''\n",
    "    print('Hello world')\n",
    "\n",
    "display_message()"
   ]
  },
  {
   "cell_type": "code",
   "execution_count": null,
   "id": "195baf2b",
   "metadata": {},
   "outputs": [
    {
     "name": "stdout",
     "output_type": "stream",
     "text": [
      "One of my favorite books is Bitcoin Standart\n"
     ]
    }
   ],
   "source": [
    "#8-2 Favorite book\n",
    "def favorite_book(title):\n",
    "    '''Mostrar libro favorito'''\n",
    "    print(f'One of my favorite books is {title.title()}')\n",
    "\n",
    "favorite_book(title=input().title())"
   ]
  },
  {
   "cell_type": "markdown",
   "id": "98d1113f",
   "metadata": {},
   "source": [
    "---"
   ]
  },
  {
   "cell_type": "markdown",
   "id": "99f513d1",
   "metadata": {},
   "source": [
    "#### Try it yourself - Pag.: 136"
   ]
  },
  {
   "cell_type": "code",
   "execution_count": null,
   "id": "4ab45fb3",
   "metadata": {},
   "outputs": [
    {
     "name": "stdout",
     "output_type": "stream",
     "text": [
      "T-shirt size is L, and the message is print(hola mundo)\n"
     ]
    }
   ],
   "source": [
    "#8-3 T-shirt:\n",
    "def make_shirt(shirt_size,shirt_message):\n",
    "    '''Elegir tamaño y texto en remera'''\n",
    "    print(f'T-shirt size is {shirt_size}, and the message is {shirt_message}')\n",
    "\n",
    "make_shirt(shirt_size='l'.title(),shirt_message='print(hola mundo)')\n",
    "    "
   ]
  },
  {
   "cell_type": "code",
   "execution_count": 7,
   "id": "8037dc6d",
   "metadata": {},
   "outputs": [
    {
     "name": "stdout",
     "output_type": "stream",
     "text": [
      "T-shirt size is L, and the message is I love Python\n",
      "T-shirt size is M, and the message is I love Python\n",
      "T-shirt size is L, and the message is print(hola mundo)\n"
     ]
    }
   ],
   "source": [
    "#8-4 large shirts:\n",
    "def make_shirt(shirt_size='L',shirt_message='I love Python'):\n",
    "    '''Elegir tamaño y texto en remera'''\n",
    "    print(f'T-shirt size is {shirt_size}, and the message is {shirt_message}')\n",
    "\n",
    "make_shirt()\n",
    "make_shirt(shirt_size='m'.title())\n",
    "make_shirt(shirt_message='print(hola mundo)')\n",
    " "
   ]
  },
  {
   "cell_type": "code",
   "execution_count": null,
   "id": "9a34b92c",
   "metadata": {},
   "outputs": [],
   "source": [
    "#8-5 Cities\n",
    "def describe_city(city,country='idk'.title()):\n",
    "    '''Descripcion de ciudad'''\n",
    "    print(f'The city of {city}, is in {country}')\n",
    "\n",
    "print('Please describe a city and what country it is')\n",
    "describe_city(city='encarnacion'.title(), country='paraguay'.title())\n",
    "describe_city(city='goldlabel'.title(), country)\n"
   ]
  }
 ],
 "metadata": {
  "kernelspec": {
   "display_name": "venv",
   "language": "python",
   "name": "python3"
  },
  "language_info": {
   "codemirror_mode": {
    "name": "ipython",
    "version": 3
   },
   "file_extension": ".py",
   "mimetype": "text/x-python",
   "name": "python",
   "nbconvert_exporter": "python",
   "pygments_lexer": "ipython3",
   "version": "3.11.2"
  }
 },
 "nbformat": 4,
 "nbformat_minor": 5
}
