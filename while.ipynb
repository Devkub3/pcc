{
 "cells": [
  {
   "cell_type": "code",
   "execution_count": 9,
   "id": "97f924f4",
   "metadata": {},
   "outputs": [
    {
     "name": "stdout",
     "output_type": "stream",
     "text": [
      "Let me see if i can find you a Toyota\n"
     ]
    }
   ],
   "source": [
    "#7-1 Rental Car\n",
    "car = input('What kind of rental car you want?')\n",
    "print(f'Let me see if i can find you a {car.title()}')"
   ]
  },
  {
   "cell_type": "code",
   "execution_count": 14,
   "id": "8c62e659",
   "metadata": {},
   "outputs": [
    {
     "name": "stdout",
     "output_type": "stream",
     "text": [
      "Your table is ready\n"
     ]
    }
   ],
   "source": [
    "#7-2 Restaurant seating\n",
    "reservation = int(input('How many people come with you?'))\n",
    "if reservation >= 8:\n",
    "    print('You all have to wait')\n",
    "else:\n",
    "    print('Your table is ready')"
   ]
  },
  {
   "cell_type": "code",
   "execution_count": null,
   "id": "97165112",
   "metadata": {},
   "outputs": [
    {
     "name": "stdout",
     "output_type": "stream",
     "text": [
      "Its not multiple of 10\n",
      "The number is 10\n"
     ]
    }
   ],
   "source": [
    "#7-3 Multiples of ten\n",
    "number = int(input('Insert a number: '))\n",
    "if number % 10 == 0:\n",
    "    print('Its multiple of 10')\n",
    "else:\n",
    "    print('Its not multiple of 10')\n",
    "\n",
    "print(f'The number is {number}')"
   ]
  }
 ],
 "metadata": {
  "kernelspec": {
   "display_name": ".venv",
   "language": "python",
   "name": "python3"
  },
  "language_info": {
   "codemirror_mode": {
    "name": "ipython",
    "version": 3
   },
   "file_extension": ".py",
   "mimetype": "text/x-python",
   "name": "python",
   "nbconvert_exporter": "python",
   "pygments_lexer": "ipython3",
   "version": "3.13.2"
  }
 },
 "nbformat": 4,
 "nbformat_minor": 5
}
