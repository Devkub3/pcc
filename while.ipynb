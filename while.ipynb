{
 "cells": [
  {
   "cell_type": "markdown",
   "id": "9c8bcedd",
   "metadata": {},
   "source": [
    "#### Try it yourself - Pag.: 117"
   ]
  },
  {
   "cell_type": "code",
   "execution_count": 2,
   "id": "97f924f4",
   "metadata": {},
   "outputs": [
    {
     "name": "stdout",
     "output_type": "stream",
     "text": [
      "Let me see if i can find you a \n"
     ]
    }
   ],
   "source": [
    "#7-1 Rental Car\n",
    "car = input('What kind of rental car you want?')\n",
    "print(f'Let me see if i can find you a {car.title()}')"
   ]
  },
  {
   "cell_type": "code",
   "execution_count": 4,
   "id": "8c62e659",
   "metadata": {},
   "outputs": [
    {
     "name": "stdout",
     "output_type": "stream",
     "text": [
      "You all have to wait\n"
     ]
    }
   ],
   "source": [
    "#7-2 Restaurant seating\n",
    "reservation = int(input('How many people come with you?'))\n",
    "if reservation >= 8:\n",
    "    print('You all have to wait')\n",
    "else:\n",
    "    print('Your table is ready')"
   ]
  },
  {
   "cell_type": "code",
   "execution_count": null,
   "id": "97165112",
   "metadata": {},
   "outputs": [
    {
     "name": "stdout",
     "output_type": "stream",
     "text": [
      "Its multiple of 10\n",
      "The number is 20\n"
     ]
    }
   ],
   "source": [
    "#7-3 Multiples of ten\n",
    "number = int(input('Insert a number: '))\n",
    "if number % 10 == 0:\n",
    "    print('Its multiple of 10')\n",
    "else:\n",
    "    print('Its not multiple of 10')\n",
    "\n",
    "print(f'The number is {number}')"
   ]
  },
  {
   "cell_type": "markdown",
   "id": "2f885409",
   "metadata": {},
   "source": [
    "---"
   ]
  },
  {
   "cell_type": "code",
   "execution_count": 1,
   "id": "4da15401",
   "metadata": {},
   "outputs": [
    {
     "name": "stdout",
     "output_type": "stream",
     "text": [
      "hola\n",
      "chau\n"
     ]
    }
   ],
   "source": [
    "prompt = '\\nEscribe algo para que el loro repita'\n",
    "prompt += '\\nIngresa \"salir\" para finalizar el programa'\n",
    "\n",
    "active = True\n",
    "\n",
    "while active:\n",
    "    mensaje = input(prompt)\n",
    "\n",
    "    if mensaje == 'salir':\n",
    "        active = False\n",
    "    else:\n",
    "        print(mensaje)"
   ]
  },
  {
   "cell_type": "markdown",
   "id": "e3d70213",
   "metadata": {},
   "source": [
    "---"
   ]
  },
  {
   "cell_type": "markdown",
   "id": "0ca917dc",
   "metadata": {},
   "source": [
    "#### Try it yourself - Pag.: 123"
   ]
  },
  {
   "cell_type": "code",
   "execution_count": 10,
   "id": "be44fcb1",
   "metadata": {},
   "outputs": [
    {
     "name": "stdout",
     "output_type": "stream",
     "text": [
      "Has agregado tomate a la pizza\n",
      "Has agregado piña a la pizza\n",
      "Has agregado pepinillos a la pizza\n",
      "Pedido finalizado\n"
     ]
    }
   ],
   "source": [
    "#7-4 Pizza Toppings\n",
    "prompt = '\\nElige el topping para tu pizza'\n",
    "prompt += '\\n Escribe \"salir\" para finalizar'\n",
    "\n",
    "\n",
    "while True:\n",
    "    pedido = input(prompt)\n",
    "\n",
    "    if pedido == 'salir':\n",
    "        break \n",
    "    else:\n",
    "        print(f'Has agregado {pedido} a la pizza')\n",
    "\n",
    "print('Pedido finalizado')\n"
   ]
  },
  {
   "cell_type": "code",
   "execution_count": null,
   "id": "18414185",
   "metadata": {},
   "outputs": [],
   "source": [
    "#7-5 Movie Tickets\n",
    "prompt = '\\nIngresa tu edad'\n",
    "prompt += '\\n Ingresa \"0\" cero para terminar'\n",
    "\n",
    "while True:\n",
    "    control_edad = int(input(prompt))\n",
    "\n",
    "    if control_edad == 0:\n",
    "        break\n",
    "\n",
    "    if control_edad <= 3:\n",
    "        print('The ticket is free')\n",
    "    elif control_edad <= 12:\n",
    "        print('The ticket is $10')\n",
    "    else:\n",
    "        print('The ticket is $15')\n"
   ]
  },
  {
   "cell_type": "markdown",
   "id": "511394af",
   "metadata": {},
   "source": [
    "---"
   ]
  },
  {
   "cell_type": "code",
   "execution_count": null,
   "id": "6f9c8a2a",
   "metadata": {},
   "outputs": [],
   "source": [
    "unconfirmed_users = ['edu','ada','sebas','shirley']\n",
    "confirmed_users = []\n",
    "\n",
    "while unconfirmed_users:\n",
    "    current_user = unconfirmed_users.pop()\n",
    "\n",
    "    print(f'Verificando usuario:{current_user.title()}')\n",
    "    confirmed_users.append(current_user)\n",
    "\n",
    "print('\\nLos siguientes usuarios han confirmado')\n",
    "for confirmed_user in confirmed_users:\n",
    "    print(confirmed_user.title())"
   ]
  },
  {
   "cell_type": "markdown",
   "id": "e78205c8",
   "metadata": {},
   "source": [
    "---"
   ]
  },
  {
   "cell_type": "markdown",
   "id": "39e107d6",
   "metadata": {},
   "source": [
    "#### Try it youself - Pag.: 126"
   ]
  },
  {
   "cell_type": "code",
   "execution_count": 5,
   "id": "f6642c74",
   "metadata": {},
   "outputs": [
    {
     "name": "stdout",
     "output_type": "stream",
     "text": [
      "Pedido terminado\n",
      "\n",
      "Sandwich de Jamon Y Queso terminado\n",
      "\n",
      "Sandwich de Verdura terminado\n",
      "\n",
      "Sandwich de Mila terminado\n"
     ]
    }
   ],
   "source": [
    "#7-8. Deli:\n",
    "sandwich_orders = ['mila','verdura','jamon y queso']\n",
    "finished_sandwiches = []\n",
    "\n",
    "while sandwich_orders:\n",
    "    current_sandwich = sandwich_orders.pop()\n",
    "\n",
    "    finished_sandwiches.append(current_sandwich)\n",
    "\n",
    "print('Pedido terminado')\n",
    "for finished_sandwich in finished_sandwiches:\n",
    "    print(f'\\nSandwich de {finished_sandwich.title()} terminado')"
   ]
  },
  {
   "cell_type": "code",
   "execution_count": 6,
   "id": "a8e72ceb",
   "metadata": {},
   "outputs": [
    {
     "name": "stdout",
     "output_type": "stream",
     "text": [
      "The deli has run out of pastrami\n",
      "['mila', 'verdura', 'jamon y queso']\n"
     ]
    }
   ],
   "source": [
    "#7-9. No Pastrami\n",
    "sandwich_orders = ['pastrami','mila','verdura','pastrami','jamon y queso','pastrami']\n",
    "print('The deli has run out of pastrami')\n",
    "\n",
    "while 'pastrami' in sandwich_orders:\n",
    "    sandwich_orders.remove('pastrami')\n",
    "\n",
    "print(sandwich_orders)"
   ]
  },
  {
   "cell_type": "code",
   "execution_count": 7,
   "id": "22804783",
   "metadata": {},
   "outputs": [
    {
     "name": "stdout",
     "output_type": "stream",
     "text": [
      "{'jamon y queso', 'pastrami', 'verdura', 'mila'}\n"
     ]
    }
   ],
   "source": [
    "#7-9. Solucion pythonica investigada`\n",
    "sandwich_orders = ['pastrami','mila','verdura','pastrami','jamon y queso','pastrami']\n",
    "run_out = set(sandwich_orders)\n",
    "\n",
    "print(run_out)\n",
    "# En esta soluciòn se eliminaron los repetidos pero queda un elemento`\n"
   ]
  },
  {
   "cell_type": "code",
   "execution_count": null,
   "id": "450c44b8",
   "metadata": {},
   "outputs": [
    {
     "name": "stdout",
     "output_type": "stream",
     "text": [
      "<built-in method title of str object at 0x7ff928534570> wants to visit Eeuu\n",
      "<built-in method title of str object at 0x7ff9285350f0> wants to visit Paris\n"
     ]
    }
   ],
   "source": [
    "#7-10. Dream vacation\n",
    "dream_vacation = {} \n",
    "\n",
    "#active_loop = True\n",
    "while True:\n",
    "    name = input('What is your f*** name?')\n",
    "    response = input('Where would you like to go?')\n",
    "    dream_vacation[name]= response\n",
    "    \n",
    "    #Consulta si alguien mas completara la encuesta\n",
    "    repeat = input('Would you like to let another person respond?(yes/no)')\n",
    "    if repeat == 'no':\n",
    "        break\n",
    "\n",
    "# Imprimir respuestas\n",
    "for name,response in dream_vacation.items():\n",
    "    print(f'{name.title()} wants to visit {response.title()}')\n"
   ]
  }
 ],
 "metadata": {
  "kernelspec": {
   "display_name": "venv",
   "language": "python",
   "name": "python3"
  },
  "language_info": {
   "codemirror_mode": {
    "name": "ipython",
    "version": 3
   },
   "file_extension": ".py",
   "mimetype": "text/x-python",
   "name": "python",
   "nbconvert_exporter": "python",
   "pygments_lexer": "ipython3",
   "version": "3.11.2"
  }
 },
 "nbformat": 4,
 "nbformat_minor": 5
}
