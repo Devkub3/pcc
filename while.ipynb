{
 "cells": [
  {
   "cell_type": "markdown",
   "id": "9c8bcedd",
   "metadata": {},
   "source": [
    "#### Try it yourself - Pag.: 117"
   ]
  },
  {
   "cell_type": "code",
   "execution_count": 2,
   "id": "97f924f4",
   "metadata": {},
   "outputs": [
    {
     "name": "stdout",
     "output_type": "stream",
     "text": [
      "Let me see if i can find you a \n"
     ]
    }
   ],
   "source": [
    "#7-1 Rental Car\n",
    "car = input('What kind of rental car you want?')\n",
    "print(f'Let me see if i can find you a {car.title()}')"
   ]
  },
  {
   "cell_type": "code",
   "execution_count": 4,
   "id": "8c62e659",
   "metadata": {},
   "outputs": [
    {
     "name": "stdout",
     "output_type": "stream",
     "text": [
      "You all have to wait\n"
     ]
    }
   ],
   "source": [
    "#7-2 Restaurant seating\n",
    "reservation = int(input('How many people come with you?'))\n",
    "if reservation >= 8:\n",
    "    print('You all have to wait')\n",
    "else:\n",
    "    print('Your table is ready')"
   ]
  },
  {
   "cell_type": "code",
   "execution_count": null,
   "id": "97165112",
   "metadata": {},
   "outputs": [
    {
     "name": "stdout",
     "output_type": "stream",
     "text": [
      "Its multiple of 10\n",
      "The number is 20\n"
     ]
    }
   ],
   "source": [
    "#7-3 Multiples of ten\n",
    "number = int(input('Insert a number: '))\n",
    "if number % 10 == 0:\n",
    "    print('Its multiple of 10')\n",
    "else:\n",
    "    print('Its not multiple of 10')\n",
    "\n",
    "print(f'The number is {number}')"
   ]
  },
  {
   "cell_type": "markdown",
   "id": "2f885409",
   "metadata": {},
   "source": [
    "---"
   ]
  },
  {
   "cell_type": "code",
   "execution_count": 1,
   "id": "4da15401",
   "metadata": {},
   "outputs": [
    {
     "name": "stdout",
     "output_type": "stream",
     "text": [
      "hola\n",
      "chau\n"
     ]
    }
   ],
   "source": [
    "prompt = '\\nEscribe algo para que el loro repita'\n",
    "prompt += '\\nIngresa \"salir\" para finalizar el programa'\n",
    "\n",
    "active = True\n",
    "\n",
    "while active:\n",
    "    mensaje = input(prompt)\n",
    "\n",
    "    if mensaje == 'salir':\n",
    "        active = False\n",
    "    else:\n",
    "        print(mensaje)"
   ]
  },
  {
   "cell_type": "markdown",
   "id": "e3d70213",
   "metadata": {},
   "source": [
    "---"
   ]
  },
  {
   "cell_type": "markdown",
   "id": "0ca917dc",
   "metadata": {},
   "source": [
    "#### Try it yourself - Pag.: 123"
   ]
  },
  {
   "cell_type": "code",
   "execution_count": 10,
   "id": "be44fcb1",
   "metadata": {},
   "outputs": [
    {
     "name": "stdout",
     "output_type": "stream",
     "text": [
      "Has agregado tomate a la pizza\n",
      "Has agregado piña a la pizza\n",
      "Has agregado pepinillos a la pizza\n",
      "Pedido finalizado\n"
     ]
    }
   ],
   "source": [
    "#7-4 Pizza Toppings\n",
    "prompt = '\\nElige el topping para tu pizza'\n",
    "prompt += '\\n Escribe \"salir\" para finalizar'\n",
    "\n",
    "\n",
    "while True:\n",
    "    pedido = input(prompt)\n",
    "\n",
    "    if pedido == 'salir':\n",
    "        break \n",
    "    else:\n",
    "        print(f'Has agregado {pedido} a la pizza')\n",
    "\n",
    "print('Pedido finalizado')\n"
   ]
  },
  {
   "cell_type": "code",
   "execution_count": null,
   "id": "18414185",
   "metadata": {},
   "outputs": [],
   "source": [
    "#7-5 Movie Tickets\n",
    "prompt = '\\nIngresa tu edad'\n",
    "prompt += '\\n Ingresa \"0\" cero para terminar'\n",
    "\n",
    "while True:\n",
    "    control_edad = int(input(prompt))\n",
    "\n",
    "    if control_edad == 0:\n",
    "        break\n",
    "\n",
    "    if control_edad <= 3:\n",
    "        print('The ticket is free')\n",
    "    elif control_edad <= 12:\n",
    "        print('The ticket is $10')\n",
    "    else:\n",
    "        print('The ticket is $15')\n"
   ]
  },
  {
   "cell_type": "code",
   "execution_count": null,
   "id": "511394af",
   "metadata": {},
   "outputs": [],
   "source": []
  }
 ],
 "metadata": {
  "kernelspec": {
   "display_name": "venv",
   "language": "python",
   "name": "python3"
  },
  "language_info": {
   "codemirror_mode": {
    "name": "ipython",
    "version": 3
   },
   "file_extension": ".py",
   "mimetype": "text/x-python",
   "name": "python",
   "nbconvert_exporter": "python",
   "pygments_lexer": "ipython3",
   "version": "3.11.2"
  }
 },
 "nbformat": 4,
 "nbformat_minor": 5
}
